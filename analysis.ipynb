{
 "cells": [
  {
   "cell_type": "markdown",
   "metadata": {},
   "source": [
    "# Comparison"
   ]
  },
  {
   "cell_type": "code",
   "execution_count": 10,
   "metadata": {},
   "outputs": [
    {
     "name": "stdout",
     "output_type": "stream",
     "text": [
      "Collecting vendi_score\n",
      "  Using cached vendi_score-0.0.3-py3-none-any.whl\n",
      "Requirement already satisfied: numpy>=1.14 in /data/almanach/user/azebazed/.conda/envs/llm/lib/python3.9/site-packages (from vendi_score) (1.26.0)\n",
      "Requirement already satisfied: scipy>=1.3.2 in /data/almanach/user/azebazed/.conda/envs/llm/lib/python3.9/site-packages (from vendi_score) (1.11.3)\n",
      "Requirement already satisfied: scikit-learn>=1.1 in /data/almanach/user/azebazed/.conda/envs/llm/lib/python3.9/site-packages (from vendi_score) (1.3.2)\n",
      "Requirement already satisfied: joblib>=1.1.1 in /data/almanach/user/azebazed/.conda/envs/llm/lib/python3.9/site-packages (from scikit-learn>=1.1->vendi_score) (1.3.2)\n",
      "Requirement already satisfied: threadpoolctl>=2.0.0 in /data/almanach/user/azebazed/.conda/envs/llm/lib/python3.9/site-packages (from scikit-learn>=1.1->vendi_score) (3.2.0)\n",
      "\u001b[33mDEPRECATION: omegaconf 2.0.6 has a non-standard dependency specifier PyYAML>=5.1.*. pip 24.0 will enforce this behaviour change. A possible replacement is to upgrade to a newer version of omegaconf or contact the author to suggest that they release a version with a conforming dependency specifiers. Discussion can be found at https://github.com/pypa/pip/issues/12063\u001b[0m\u001b[33m\n",
      "\u001b[0mInstalling collected packages: vendi_score\n",
      "Successfully installed vendi_score-0.0.3\n"
     ]
    }
   ],
   "source": [
    "#!pip install vendi_score"
   ]
  },
  {
   "cell_type": "code",
   "execution_count": 1,
   "metadata": {},
   "outputs": [],
   "source": [
    "from sklearn.metrics import pairwise_distances\n",
    "from datasets import load_dataset\n",
    "import numpy as np\n",
    "\n",
    "flores_lan = \"eng_Latn\"\n",
    "lan = flores_lan.split(\"_\")[0]\n",
    "ds = load_dataset(\"facebook/flores\", \"eng_Latn\")"
   ]
  },
  {
   "cell_type": "code",
   "execution_count": null,
   "metadata": {},
   "outputs": [],
   "source": [
    "%cd experiments/ICL-MT"
   ]
  },
  {
   "cell_type": "code",
   "execution_count": 3,
   "metadata": {},
   "outputs": [
    {
     "name": "stdout",
     "output_type": "stream",
     "text": [
      "[170 143 198]\n",
      "[508 238 777]\n",
      "[170 271 238]\n",
      "[170 143 272]\n",
      "[170 272 342]\n",
      "[272  61 238]\n",
      "[ 56 272 199]\n",
      "[144 238 272]\n",
      "[162  61 170]\n",
      "[272 834 741]\n",
      "[984 523 197]\n"
     ]
    }
   ],
   "source": [
    "dico = {}\n",
    "for method in [\n",
    "    \"Cohere\",\n",
    "    \"Laser2\",\n",
    "    \"LaBSE\",\n",
    "    \"E5\",\n",
    "    \"SONAR\",\n",
    "    \"BLOOM_one\",\n",
    "    \"BLOOM_middle\",\n",
    "    \"BLOOM_last\",\n",
    "    \"BLOOM_one_avg\",\n",
    "    \"BLOOM_middle_avg\",\n",
    "    \"BLOOM_last_avg\"\n",
    "] :\n",
    "    if method == \"Cohere\" :\n",
    "        X = np.fromfile(f\"./data/flores/{lan}/{method}/devtest.bin\")\n",
    "        Y = np.fromfile(f\"./data/flores/{lan}/{method}/dev.bin\")\n",
    "    else :\n",
    "        X = np.fromfile(\n",
    "            f\"../data/flores/{lan}/{method}/devtest.bin\",\n",
    "            dtype=np.float32,\n",
    "            count=-1\n",
    "        )\n",
    "        Y = np.fromfile(\n",
    "            f\"../data/flores/{lan}/{method}/dev.bin\",\n",
    "            dtype=np.float32,\n",
    "            count=-1\n",
    "        )\n",
    "    X = X.reshape(len(ds[\"devtest\"]), -1)\n",
    "    Y = Y.reshape(len(ds[\"dev\"]), -1)\n",
    "    D = pairwise_distances(X, Y, metric=\"cosine\")\n",
    "\n",
    "    print(\n",
    "        np.argsort(D, axis=-1)[0, 0:3]\n",
    "    )\n",
    "    dico[method] = D"
   ]
  },
  {
   "cell_type": "code",
   "execution_count": 4,
   "metadata": {},
   "outputs": [],
   "source": [
    "def compare(D1, D2, k=1, with_order=False):\n",
    "    assert D1.shape[0] == D2.shape[0]\n",
    "    K1, K2 = np.argsort(D1, axis=-1)[:, :k], np.argsort(D2, axis=-1)[:, :k]\n",
    "    L = []\n",
    "    for i in range(K1.shape[0]):\n",
    "        L1 = K1[i].tolist()\n",
    "        L2 = K2[i].tolist()\n",
    "        if not with_order :\n",
    "            L.append(\n",
    "                sum(\n",
    "                    [(v in L1) for v in L2]\n",
    "                )\n",
    "                #len(list(set(L1) & set(L2)))\n",
    "            )\n",
    "        else :\n",
    "            L.append(\n",
    "                sum([(a==b) for a, b in zip(L1, L2)])\n",
    "            )\n",
    "    return L"
   ]
  },
  {
   "cell_type": "code",
   "execution_count": 5,
   "metadata": {},
   "outputs": [],
   "source": [
    "import pandas as pd\n",
    "k=10\n",
    "df = pd.DataFrame.from_dict(\n",
    "    {\n",
    "        k2 : [\n",
    "            round(\n",
    "                np.mean(\n",
    "                    compare(v2, v1, k)\n",
    "                ),\n",
    "                2\n",
    "            )\n",
    "            for k1, v1 in dico.items()\n",
    "        ] \n",
    "        for k2, v2 in dico.items()\n",
    "    },\n",
    "    orient = \"index\",\n",
    "    columns = list(dico.keys())\n",
    ")"
   ]
  },
  {
   "cell_type": "code",
   "execution_count": 6,
   "metadata": {},
   "outputs": [
    {
     "data": {
      "text/html": [
       "<div>\n",
       "<style scoped>\n",
       "    .dataframe tbody tr th:only-of-type {\n",
       "        vertical-align: middle;\n",
       "    }\n",
       "\n",
       "    .dataframe tbody tr th {\n",
       "        vertical-align: top;\n",
       "    }\n",
       "\n",
       "    .dataframe thead th {\n",
       "        text-align: right;\n",
       "    }\n",
       "</style>\n",
       "<table border=\"1\" class=\"dataframe\">\n",
       "  <thead>\n",
       "    <tr style=\"text-align: right;\">\n",
       "      <th></th>\n",
       "      <th>Cohere</th>\n",
       "      <th>E5</th>\n",
       "      <th>LaBSE</th>\n",
       "      <th>Laser2</th>\n",
       "      <th>SONAR</th>\n",
       "    </tr>\n",
       "  </thead>\n",
       "  <tbody>\n",
       "    <tr>\n",
       "      <th>Cohere</th>\n",
       "      <td>10.00</td>\n",
       "      <td>5.87</td>\n",
       "      <td>2.68</td>\n",
       "      <td>1.29</td>\n",
       "      <td>2.96</td>\n",
       "    </tr>\n",
       "    <tr>\n",
       "      <th>E5</th>\n",
       "      <td>5.87</td>\n",
       "      <td>10.00</td>\n",
       "      <td>2.64</td>\n",
       "      <td>1.38</td>\n",
       "      <td>2.77</td>\n",
       "    </tr>\n",
       "    <tr>\n",
       "      <th>LaBSE</th>\n",
       "      <td>2.68</td>\n",
       "      <td>2.64</td>\n",
       "      <td>10.00</td>\n",
       "      <td>2.21</td>\n",
       "      <td>2.95</td>\n",
       "    </tr>\n",
       "    <tr>\n",
       "      <th>Laser2</th>\n",
       "      <td>1.29</td>\n",
       "      <td>1.38</td>\n",
       "      <td>2.21</td>\n",
       "      <td>10.00</td>\n",
       "      <td>2.13</td>\n",
       "    </tr>\n",
       "    <tr>\n",
       "      <th>SONAR</th>\n",
       "      <td>2.96</td>\n",
       "      <td>2.77</td>\n",
       "      <td>2.95</td>\n",
       "      <td>2.13</td>\n",
       "      <td>10.00</td>\n",
       "    </tr>\n",
       "  </tbody>\n",
       "</table>\n",
       "</div>"
      ],
      "text/plain": [
       "        Cohere     E5  LaBSE  Laser2  SONAR\n",
       "Cohere   10.00   5.87   2.68    1.29   2.96\n",
       "E5        5.87  10.00   2.64    1.38   2.77\n",
       "LaBSE     2.68   2.64  10.00    2.21   2.95\n",
       "Laser2    1.29   1.38   2.21   10.00   2.13\n",
       "SONAR     2.96   2.77   2.95    2.13  10.00"
      ]
     },
     "execution_count": 6,
     "metadata": {},
     "output_type": "execute_result"
    }
   ],
   "source": [
    "METHODS = [\"Cohere\", \"E5\", \"LaBSE\", \"Laser2\", \"SONAR\"]\n",
    "df.loc[METHODS, METHODS]"
   ]
  },
  {
   "cell_type": "code",
   "execution_count": 7,
   "metadata": {},
   "outputs": [
    {
     "data": {
      "image/png": "[encoded data removed]",
      "text/plain": [
       "<Figure size 640x480 with 1 Axes>"
      ]
     },
     "metadata": {},
     "output_type": "display_data"
    }
   ],
   "source": [
    "import matplotlib.pyplot as plt\n",
    "fig, ax = plt.subplots()\n",
    "matrix = df.loc[METHODS, METHODS].values\n",
    "im = ax.imshow(\n",
    "    matrix, \n",
    "    #map=\"Purples\"\n",
    "    #cmap=\"Blues\"\n",
    "    #cmap=\"plasma\"\n",
    ")\n",
    "\n",
    "# Show all ticks and label them with the respective list entries\n",
    "ax.set_xticks(np.arange(len(METHODS)), labels= [\"Embed v3\"] + METHODS[1:])\n",
    "ax.set_yticks(np.arange(len(METHODS)), labels= [\"Embed v3\"] + METHODS[1:])\n",
    "\n",
    "# Rotate the tick labels and set their alignment.\n",
    "plt.setp(ax.get_xticklabels(), rotation=45, ha=\"right\",\n",
    "         rotation_mode=\"anchor\")\n",
    "\n",
    "# Loop over data dimensions and create text annotations.\n",
    "for i in range(len(METHODS)):\n",
    "    for j in range(len(METHODS)):\n",
    "        text = ax.text(j, i, matrix[i, j],\n",
    "                       ha=\"center\", va=\"center\", color=\"w\")\n",
    "\n",
    "#ax.set_title(\"Average number of in-context examples in common in 10-shot.\")\n",
    "fig.tight_layout()\n",
    "# plt.savefig(\"intersection.pdf\", format=\"pdf\", bbox_inches=\"tight\")\n",
    "plt.show()"
   ]
  },
  {
   "cell_type": "code",
   "execution_count": 8,
   "metadata": {},
   "outputs": [],
   "source": [
    "def get(D, i, k):\n",
    "    K = np.argsort(D, axis=-1)[i, :k].tolist()\n",
    "    print(ds[\"devtest\"][i][\"sentence\"])\n",
    "    print('-'*50)\n",
    "    for j in K:\n",
    "        print(f\"{j}: {ds['dev'][j]['sentence']}\")\n",
    "        print('-'*50)"
   ]
  },
  {
   "cell_type": "code",
   "execution_count": 9,
   "metadata": {},
   "outputs": [
    {
     "name": "stdout",
     "output_type": "stream",
     "text": [
      "Like some other experts, he is skeptical about whether diabetes can be cured, noting that these findings have no relevance to people who already have Type 1 diabetes.\n",
      "--------------------------------------------------\n",
      "372: Other scientists argue that these plants are very poisonous so it is unlikely that any dinosaur ate them, even though today the sloth and other animals like the parrot (a descendant of the dinosaurs) can eat poisonous leaves or fruit.\n",
      "--------------------------------------------------\n",
      "272: Some studies suggest that the disease must become less lethal before it can cause a global epidemic, he noted.\n",
      "--------------------------------------------------\n",
      "271: Dr. Lee also expressed his concern about reports that children in Turkey have now become infected with the A(H5N1) avian influenza virus without becoming ill.\n",
      "--------------------------------------------------\n"
     ]
    }
   ],
   "source": [
    "get(dico[\"LaBSE\"], 2, 3)"
   ]
  },
  {
   "cell_type": "code",
   "execution_count": 10,
   "metadata": {},
   "outputs": [
    {
     "name": "stdout",
     "output_type": "stream",
     "text": [
      "Like some other experts, he is skeptical about whether diabetes can be cured, noting that these findings have no relevance to people who already have Type 1 diabetes.\n",
      "--------------------------------------------------\n",
      "183: The Health Minister expressed concern both for the welfare of individuals taking advantage of the temporary legality of the substances involved, and for drug-related convictions handed down since the now-unconstitutional changes came into effect.\n",
      "--------------------------------------------------\n",
      "372: Other scientists argue that these plants are very poisonous so it is unlikely that any dinosaur ate them, even though today the sloth and other animals like the parrot (a descendant of the dinosaurs) can eat poisonous leaves or fruit.\n",
      "--------------------------------------------------\n",
      "75: Roberts flatly refused to say about when he believes life begins, an important question when considering the ethics of abortion, saying that it would be unethical to comment on the specifics of likely cases.\n",
      "--------------------------------------------------\n"
     ]
    }
   ],
   "source": [
    "get(dico[\"Laser2\"], 2, 3)"
   ]
  },
  {
   "cell_type": "markdown",
   "metadata": {},
   "source": [
    "# SONAR vs BM25"
   ]
  },
  {
   "cell_type": "code",
   "execution_count": 12,
   "metadata": {},
   "outputs": [],
   "source": [
    "ds_src = load_dataset(\"facebook/flores\", \"eng_Latn\")"
   ]
  },
  {
   "cell_type": "code",
   "execution_count": 13,
   "metadata": {},
   "outputs": [],
   "source": [
    "from rank_bm25 import BM25Okapi\n",
    "\n",
    "devtest = [ex[\"sentence\"] for ex in ds_src[\"devtest\"]]\n",
    "dev = [ex[\"sentence\"] for ex in ds[\"dev\"]]\n",
    "\n",
    "tokenized_dev = [doc.split(\" \") for doc in dev]\n",
    "bm25 = BM25Okapi(tokenized_dev)\n",
    "\n",
    "def f(example):\n",
    "    return bm25.get_scores(example.split(\" \"))\n",
    "\n",
    "import multiprocess as mp\n",
    "\n",
    "p = mp.Pool(8)\n",
    "\n",
    "bm25_scores = p.map(f, devtest)\n",
    "D_bm25 = np.array([score for score in bm25_scores]).reshape(len(devtest), len(dev))"
   ]
  },
  {
   "cell_type": "code",
   "execution_count": 14,
   "metadata": {},
   "outputs": [
    {
     "data": {
      "text/plain": [
       "array([ 68, 153,  61, 921, 103, 182, 633, 271, 777, 314])"
      ]
     },
     "execution_count": 14,
     "metadata": {},
     "output_type": "execute_result"
    }
   ],
   "source": [
    "D_bm25.argsort(axis=-1)[0, -10:]"
   ]
  },
  {
   "cell_type": "code",
   "execution_count": 15,
   "metadata": {},
   "outputs": [
    {
     "data": {
      "text/plain": [
       "0.1"
      ]
     },
     "execution_count": 15,
     "metadata": {},
     "output_type": "execute_result"
    }
   ],
   "source": [
    "sum(compare(dico[\"SONAR\"], D_bm25, k=1))/10"
   ]
  },
  {
   "cell_type": "code",
   "execution_count": 16,
   "metadata": {},
   "outputs": [
    {
     "name": "stdout",
     "output_type": "stream",
     "text": [
      "Intersection : []\n",
      "[(430, 0, 0), (439, 1, 1), (129, 2, 2), (104, 3, 3), (979, 4, 4), (403, 5, 5), (637, 6, 6), (866, 7, 7), (160, 8, 8), (863, 9, 9), (746, 0, 10), (239, 1, 11), (303, 2, 12), (212, 3, 13), (380, 4, 14), (176, 5, 15), (328, 6, 16), (307, 7, 17), (3, 8, 18), (234, 9, 19)]\n",
      "Left : [746 239 303 212 380 176 328 307   3 234]\n",
      "Right: [430 439 129 104 979 403 637 866 160 863]\n",
      "Merge: [403, 176, 637, 328, 866, 307, 160, 3, 863, 234]\n"
     ]
    }
   ],
   "source": [
    "D1 = dico[\"SONAR\"]\n",
    "D2 = D_bm25\n",
    "\n",
    "i = 127\n",
    "\n",
    "k = 10\n",
    "R1 = D1[i].argsort()[-k:]\n",
    "R2 = D2[i].argsort()[-k:]\n",
    "intersection = list(set(R1) & set(R2))\n",
    "\n",
    "print(f\"Intersection : {intersection}\")\n",
    "# Give an advantage to those who are in both\n",
    "fusion = {}\n",
    "for element in intersection :\n",
    "    fusion[element] = 1\n",
    "for j in range(k):\n",
    "    if R2[j] in fusion :\n",
    "        fusion[R2[j]] += j\n",
    "    else :\n",
    "        fusion[R2[j]] = j\n",
    "\n",
    "for j in range(k):\n",
    "    if R1[j] in fusion :\n",
    "        fusion[R1[j]] += j\n",
    "    else :\n",
    "        fusion[R1[j]] = j\n",
    "    \n",
    "\n",
    "L = [(key, v) for (key, v) in fusion.items()]\n",
    "L = [(key, v, j) for j, (key, v) in enumerate(L)]\n",
    "print(L)\n",
    "L = sorted(L, key = lambda x : (x[1], x[2]))\n",
    "\n",
    "fusion = [alpha for (alpha, _, _) in L][-k:]\n",
    "print(f\"Left : {R1}\\nRight: {R2}\\nMerge: {fusion}\")"
   ]
  },
  {
   "cell_type": "markdown",
   "metadata": {},
   "source": [
    "# R-BM25"
   ]
  },
  {
   "cell_type": "code",
   "execution_count": 17,
   "metadata": {},
   "outputs": [],
   "source": [
    "from datasets import load_dataset\n",
    "ds_src = load_dataset(\"facebook/flores\", \"eng_Latn\")"
   ]
  },
  {
   "cell_type": "code",
   "execution_count": 18,
   "metadata": {},
   "outputs": [],
   "source": [
    "from sacremoses import MosesTokenizer, MosesDetokenizer\n",
    "from rank_bm25 import BM25Okapi\n",
    "import numpy as np\n",
    "import os\n",
    "\n",
    "mt_tok = MosesTokenizer(lang=\"en\")\n",
    "devtest = [ex[\"sentence\"] for ex in ds_src[\"devtest\"]]\n",
    "dev = [ex[\"sentence\"] for ex in ds_src[\"dev\"]]\n",
    "\n",
    "tokenized_dev = [mt_tok.tokenize(doc) for doc in dev]\n",
    "bm25 = BM25Okapi(tokenized_dev)\n",
    "\n",
    "def f(example):\n",
    "    return bm25.get_scores(mt_tok.tokenize(example))\n",
    "\n",
    "import multiprocess as mp\n",
    "\n",
    "p = mp.Pool(8)\n",
    "\n",
    "bm25_scores = p.map(f, devtest)\n",
    "D_bm25 = np.array([score for score in bm25_scores]).reshape(len(devtest), len(dev))"
   ]
  },
  {
   "cell_type": "code",
   "execution_count": null,
   "metadata": {},
   "outputs": [],
   "source": [
    "from create_recall_set_selection import select_prompt_set\n",
    "\n",
    "weight = 0.1 # lambda\n",
    "ignore_whitespace = False\n",
    "min_bleu_threshold = 0.01 # threshold\n",
    "k = 10\n",
    "def g(i):\n",
    "    source = devtest[i]\n",
    "    top_n_indices = np.argsort(D_bm25[i])[-100:]\n",
    "    prompt_src = [dev[int(idx)] for idx in top_n_indices]\n",
    "    selected_indices = select_prompt_set(\n",
    "        source, \n",
    "        prompt_src,\n",
    "        weight=weight,\n",
    "        ignore_whitespace=ignore_whitespace,\n",
    "        min_bleu_threshold=min_bleu_threshold\n",
    "    )\n",
    "    #print(f\"len prompt src = {len(prompt_src)}\")\n",
    "    #print(f\"len = {len(selected_indices)}\")\n",
    "    return selected_indices #[prompt_src[j] for j in selected_indices]"
   ]
  },
  {
   "cell_type": "code",
   "execution_count": null,
   "metadata": {},
   "outputs": [],
   "source": [
    "p = mp.Pool(8)\n",
    "R = p.map(g, [i for i in range(len(devtest))])"
   ]
  },
  {
   "cell_type": "code",
   "execution_count": null,
   "metadata": {},
   "outputs": [
    {
     "name": "stdout",
     "output_type": "stream",
     "text": [
      "82\n",
      "12\n"
     ]
    }
   ],
   "source": [
    "print(max([len(element) for element in R]))\n",
    "print(min([len(element) for element in R]))"
   ]
  },
  {
   "cell_type": "markdown",
   "metadata": {},
   "source": [
    "# POOL"
   ]
  },
  {
   "cell_type": "code",
   "execution_count": 3,
   "metadata": {},
   "outputs": [],
   "source": [
    "from datasets import load_dataset\n",
    "import numpy as np\n",
    "flores_lan = \"eng_Latn\"\n",
    "lan = flores_lan.split(\"_\")[0]\n",
    "ds = load_dataset(\"facebook/flores\", \"eng_Latn\")"
   ]
  },
  {
   "cell_type": "code",
   "execution_count": 4,
   "metadata": {},
   "outputs": [],
   "source": [
    "from sklearn.metrics import pairwise_distances\n",
    "method = \"SONAR\"\n",
    "#pool_name = \"pool_nllb_en_to_fr\"\n",
    "pool_name = \"pool_nllb_en_to_sw\"\n",
    "X = np.fromfile(\n",
    "    f\"../data/flores/{lan}/{method}/devtest.bin\",\n",
    "    dtype=np.float32,\n",
    "    count=-1\n",
    ").reshape(len(ds[\"devtest\"]), -1)\n",
    "Y = np.fromfile(\n",
    "    f\"../data/flores/{lan}/{method}/dev.bin\",\n",
    "    dtype=np.float32,\n",
    "    count=-1\n",
    ").reshape(len(ds[\"dev\"]), -1)\n",
    "P = np.fromfile(\n",
    "    f\"../data/flores/{lan}/{method}/{pool_name}.bin\",\n",
    "    dtype=np.float32,\n",
    "    count=-1\n",
    ").reshape(-1, X.shape[-1])\n",
    "D = pairwise_distances(X, np.concatenate((Y, P)), metric=\"cosine\")"
   ]
  },
  {
   "cell_type": "code",
   "execution_count": 5,
   "metadata": {},
   "outputs": [],
   "source": [
    "from datasets import Dataset, concatenate_datasets\n",
    "#pool = load_dataset(f\"ArmelRandy/nllb_en_fr_20K\")[\"train\"]\n",
    "pool = load_dataset(f\"ArmelRandy/{pool_name.replace('pool_', '').replace('to_', '')}_20K\")[\"train\"]\n",
    "ds_src_pool = Dataset.from_dict(\n",
    "    {\n",
    "        \"sentence\" : [\n",
    "            example[\"en\"] for example in pool\n",
    "        ]\n",
    "    }\n",
    ")\n",
    "ds[\"dev\"] = concatenate_datasets(\n",
    "    [\n",
    "        ds[\"dev\"].remove_columns(\n",
    "            [\n",
    "                col\n",
    "                for col in ds[\"dev\"].column_names\n",
    "                if col not in [\"sentence\"]\n",
    "            ]\n",
    "        ),\n",
    "        ds_src_pool,\n",
    "    ]\n",
    ")"
   ]
  },
  {
   "cell_type": "code",
   "execution_count": 6,
   "metadata": {},
   "outputs": [
    {
     "data": {
      "text/plain": [
       "{'en': 'Has a nation changed its gods, even when they are not gods?',\n",
       " 'sw': 'Taifa wamebadili miungu yao, ingawa siyo miungu?'}"
      ]
     },
     "execution_count": 6,
     "metadata": {},
     "output_type": "execute_result"
    }
   ],
   "source": [
    "pool[0]"
   ]
  },
  {
   "cell_type": "code",
   "execution_count": 7,
   "metadata": {},
   "outputs": [
    {
     "name": "stdout",
     "output_type": "stream",
     "text": [
      "pool size = 10, k = 1, mean = 1.0.\n",
      "pool size = 10, k = 2, mean = 2.0.\n",
      "pool size = 10, k = 5, mean = 5.0.\n",
      "pool size = 10, k = 10, mean = 10.0.\n",
      "pool size = 10, k = 20, mean = 10.0.\n",
      "\n",
      "\n",
      "pool size = 100, k = 1, mean = 1.0.\n",
      "pool size = 100, k = 2, mean = 2.0.\n",
      "pool size = 100, k = 5, mean = 5.0.\n",
      "pool size = 100, k = 10, mean = 10.0.\n",
      "pool size = 100, k = 20, mean = 20.0.\n",
      "\n",
      "\n",
      "pool size = 500, k = 1, mean = 1.0.\n",
      "pool size = 500, k = 2, mean = 2.0.\n",
      "pool size = 500, k = 5, mean = 5.0.\n",
      "pool size = 500, k = 10, mean = 10.0.\n",
      "pool size = 500, k = 20, mean = 20.0.\n",
      "\n",
      "\n",
      "pool size = 997, k = 1, mean = 1.0.\n",
      "pool size = 997, k = 2, mean = 2.0.\n",
      "pool size = 997, k = 5, mean = 5.0.\n",
      "pool size = 997, k = 10, mean = 10.0.\n",
      "pool size = 997, k = 20, mean = 20.0.\n",
      "\n",
      "\n",
      "pool size = 1997, k = 1, mean = 0.8853754940711462.\n",
      "pool size = 1997, k = 2, mean = 1.7539525691699605.\n",
      "pool size = 1997, k = 5, mean = 4.352766798418973.\n",
      "pool size = 1997, k = 10, mean = 8.588932806324111.\n",
      "pool size = 1997, k = 20, mean = 16.893280632411066.\n",
      "\n",
      "\n",
      "pool size = 5997, k = 1, mean = 0.6887351778656127.\n",
      "pool size = 5997, k = 2, mean = 1.3527667984189724.\n",
      "pool size = 5997, k = 5, mean = 3.266798418972332.\n",
      "pool size = 5997, k = 10, mean = 6.345849802371541.\n",
      "pool size = 5997, k = 20, mean = 12.024703557312254.\n",
      "\n",
      "\n",
      "pool size = 10997, k = 1, mean = 0.5711462450592886.\n",
      "pool size = 10997, k = 2, mean = 1.1067193675889329.\n",
      "pool size = 10997, k = 5, mean = 2.6343873517786562.\n",
      "pool size = 10997, k = 10, mean = 4.9812252964426875.\n",
      "pool size = 10997, k = 20, mean = 9.293478260869565.\n",
      "\n",
      "\n",
      "pool size = 20997, k = 1, mean = 0.4654150197628458.\n",
      "pool size = 20997, k = 2, mean = 0.8507905138339921.\n",
      "pool size = 20997, k = 5, mean = 1.983201581027668.\n",
      "pool size = 20997, k = 10, mean = 3.6679841897233203.\n",
      "pool size = 20997, k = 20, mean = 6.67193675889328.\n",
      "\n",
      "\n"
     ]
    }
   ],
   "source": [
    "K = [1, 2, 5, 10, 20]\n",
    "S = [1997, 5997, 10997, 20997]\n",
    "S += [10, 100, 500, 997]\n",
    "S = sorted(S)\n",
    "for s in S :\n",
    "    for k in K :\n",
    "        C = 1 - D[:, :s] # similarity\n",
    "        C = C.argsort(axis=-1)[:, -k:] # k most similar\n",
    "        mean = np.mean((C < 997).sum(axis=1)) # Average proportion of FLORES demonstrations in k-shot\n",
    "        # C = np.sort(C, axis=-1)[:, -k:]\n",
    "        # mean = np.mean(C)\n",
    "        print(f\"pool size = {s}, k = {k}, mean = {mean}.\")\n",
    "    print(\"\\n\")"
   ]
  },
  {
   "cell_type": "code",
   "execution_count": 11,
   "metadata": {},
   "outputs": [
    {
     "name": "stdout",
     "output_type": "stream",
     "text": [
      "10: 9.418636322021484\n",
      "100: 81.25450897216797\n",
      "500: 274.8154602050781\n",
      "997: 388.2101745605469\n",
      "1997: 384.4402770996094\n",
      "5997: 349.8958435058594\n",
      "10997: 347.53814697265625\n",
      "20997: 349.4849853515625\n"
     ]
    }
   ],
   "source": [
    "# vendi score of each pool composition\n",
    "from vendi_score import vendi\n",
    "K_full = pairwise_distances(\n",
    "    np.concatenate((Y, P)), np.concatenate((Y, P)), metric=\"cosine\"\n",
    ")\n",
    "for s in S:\n",
    "    V = 1 - K_full[:s, :s]\n",
    "    print(f\"{s}: {vendi.score_K(V)}\")"
   ]
  },
  {
   "cell_type": "code",
   "execution_count": 14,
   "metadata": {},
   "outputs": [
    {
     "name": "stdout",
     "output_type": "stream",
     "text": [
      "20997\n",
      "10: 131.04012508392333 -> std: 159.33315139252846\n",
      "100: 90.8830665588379 -> std: 109.78503356992019\n",
      "500: 79.90535419464112 -> std: 129.41191001514764\n",
      "997: 77.42819361509746 -> std: 106.0921322941663\n",
      "1997: 222.73160440395282 -> std: 604.1045504708954\n",
      "5997: 301.8158541143944 -> std: 1142.8100369368992\n",
      "10997: 306.2811278443971 -> std: 1049.9587145743749\n",
      "20997: 356.5249612041727 -> std: 2809.607173468987\n"
     ]
    }
   ],
   "source": [
    "import json\n",
    "p1 = \"./data/quality-diversity/flores_eng_Latn_dev_seed_122.jsonl\"\n",
    "p2 = \"./data/quality-diversity/nllb_en_sw_20K_None_train_seed_122.jsonl\"\n",
    "perplexities = []\n",
    "with open(p1, \"r\") as fin:\n",
    "    for line in fin:\n",
    "        perplexities.append(json.loads(line)[\"perplexity\"])\n",
    "with open(p2, \"r\") as fin:\n",
    "    for line in fin:\n",
    "        perplexities.append(json.loads(line)[\"perplexity\"])\n",
    "print(len(perplexities))\n",
    "for s in S:\n",
    "    print(f\"{s}: {np.mean(perplexities[:s])} -> std: {np.std(perplexities[:s])}\")"
   ]
  },
  {
   "cell_type": "code",
   "execution_count": 13,
   "metadata": {},
   "outputs": [
    {
     "name": "stdout",
     "output_type": "stream",
     "text": [
      "\n",
      "\n",
      "pool size = 10, k = 1, mean = 4.166333062994379.\n",
      "pool size = 10, k = 2, mean = 3.650719092772962.\n",
      "pool size = 10, k = 5, mean = 2.5565230892148962.\n",
      "pool size = 10, k = 10, mean = 1.5117885595941785.\n",
      "pool size = 10, k = 20, mean = 1.5117885595941785.\n",
      "\n",
      "\n",
      "pool size = 100, k = 1, mean = 9.255288077712438.\n",
      "pool size = 100, k = 2, mean = 8.525154407047728.\n",
      "pool size = 100, k = 5, mean = 7.387770730538188.\n",
      "pool size = 100, k = 10, mean = 6.4270386578071195.\n",
      "pool size = 100, k = 20, mean = 5.400559407704775.\n",
      "\n",
      "\n",
      "pool size = 500, k = 1, mean = 13.58085063429663.\n",
      "pool size = 500, k = 2, mean = 12.720186852379847.\n",
      "pool size = 500, k = 5, mean = 11.395916438890959.\n",
      "pool size = 500, k = 10, mean = 10.299939120953907.\n",
      "pool size = 500, k = 20, mean = 9.156534320507928.\n",
      "\n",
      "\n",
      "pool size = 997, k = 1, mean = 15.3716492958529.\n",
      "pool size = 997, k = 2, mean = 14.456167174943927.\n",
      "pool size = 997, k = 5, mean = 13.056555253454228.\n",
      "pool size = 997, k = 10, mean = 11.91386332985247.\n",
      "pool size = 997, k = 20, mean = 10.737810403546927.\n",
      "\n",
      "\n",
      "pool size = 1997, k = 1, mean = 16.11594701056498.\n",
      "pool size = 1997, k = 2, mean = 15.249950237361096.\n",
      "pool size = 1997, k = 5, mean = 13.921029433156471.\n",
      "pool size = 1997, k = 10, mean = 12.849726631365732.\n",
      "pool size = 1997, k = 20, mean = 11.758119293348779.\n",
      "\n",
      "\n",
      "pool size = 5997, k = 1, mean = 15.607960380221229.\n",
      "pool size = 5997, k = 2, mean = 14.700302761807658.\n",
      "pool size = 5997, k = 5, mean = 13.382875774602017.\n",
      "pool size = 5997, k = 10, mean = 12.315839730065457.\n",
      "pool size = 5997, k = 20, mean = 11.224656743428987.\n",
      "\n",
      "\n",
      "pool size = 10997, k = 1, mean = 16.588148025483683.\n",
      "pool size = 10997, k = 2, mean = 15.698544531344394.\n",
      "pool size = 10997, k = 5, mean = 14.375333529601033.\n",
      "pool size = 10997, k = 10, mean = 13.3075753361336.\n",
      "pool size = 10997, k = 20, mean = 12.211544823465049.\n",
      "\n",
      "\n",
      "pool size = 20997, k = 1, mean = 17.77061654234039.\n",
      "pool size = 20997, k = 2, mean = 16.857608863730572.\n",
      "pool size = 20997, k = 5, mean = 15.524287041538678.\n",
      "pool size = 20997, k = 10, mean = 14.428809477464727.\n",
      "pool size = 20997, k = 20, mean = 13.307531168378578.\n"
     ]
    }
   ],
   "source": [
    "from rank_bm25 import BM25Okapi\n",
    "import os\n",
    "os.environ[\"TOKENIZERS_PARALLELISM\"] = \"false\"\n",
    "devtest = [ex[\"sentence\"] for ex in ds[\"devtest\"]]\n",
    "\n",
    "for s in S :\n",
    "    dev = [ex[\"sentence\"] for ex in ds[\"dev\"]][:s]\n",
    "\n",
    "    tokenized_dev = [doc.split(\" \") for doc in dev]\n",
    "    bm25 = BM25Okapi(tokenized_dev)\n",
    "\n",
    "    def f(example):\n",
    "        return bm25.get_scores(example.split(\" \"))\n",
    "\n",
    "    import multiprocess as mp\n",
    "\n",
    "    p = mp.Pool(8)\n",
    "\n",
    "    bm25_scores = p.map(f, devtest)\n",
    "    D_ = np.array([score for score in bm25_scores]).reshape(len(devtest), len(dev))\n",
    "    print(\"\\n\")\n",
    "    for k in K :\n",
    "        # C = D_.argsort(axis=-1)[:, -k:]\n",
    "        # mean = np.mean((C < 997).sum(axis=1))\n",
    "        C = np.sort(D_, axis=-1)[:, -k:]\n",
    "        mean = np.mean(C) # Average of average k-shot similarity score\n",
    "        print(f\"pool size = {s}, k = {k}, mean = {mean}.\")"
   ]
  },
  {
   "cell_type": "code",
   "execution_count": 15,
   "metadata": {},
   "outputs": [
    {
     "data": {
      "image/png": "[encoded data removed]",
      "text/plain": [
       "<Figure size 400x300 with 1 Axes>"
      ]
     },
     "metadata": {},
     "output_type": "display_data"
    }
   ],
   "source": [
    "import matplotlib.pyplot as plt\n",
    "import numpy as np\n",
    "\n",
    "plt.figure(\n",
    "    figsize=(4, 3)\n",
    "    #figsize=(3, 2)\n",
    ")\n",
    "K = [1997, 5997, 10997, 20997]\n",
    "labels = [\"997+1e3\", \"997+5e3\", \"997+1e4\", \"997+2e4\"]\n",
    "plt.xticks(\n",
    "    K,\n",
    "    labels,\n",
    "    fontsize=8\n",
    ")\n",
    "\n",
    "sonar = [8.58, 6.34, 4.98, 3.66]\n",
    "bm25 = [6.66, 3.07, 2.00, 1.23]\n",
    "aleatoire = [10*997/k for k in K]\n",
    "\n",
    "plt.plot(\n",
    "    K[:len(sonar)],\n",
    "    sonar,\n",
    "    linestyle=\"solid\",\n",
    "    linewidth=1.0,\n",
    "    marker=\"^\",\n",
    "    markersize=5,\n",
    "    label=\"SONAR\",\n",
    "    color = \"blue\"\n",
    ")\n",
    "plt.plot(\n",
    "    K[:len(bm25)],\n",
    "    bm25,\n",
    "    linestyle=\"solid\",\n",
    "    linewidth=1.0,\n",
    "    marker=\"^\",\n",
    "    markersize=5,\n",
    "    label=\"bm25\",\n",
    "    color=\"red\"\n",
    ")\n",
    "plt.plot(\n",
    "    K[:len(aleatoire)],\n",
    "    aleatoire,\n",
    "    linestyle=\"solid\",\n",
    "    linewidth=1.0,\n",
    "    marker=\"^\",\n",
    "    markersize=5,\n",
    "    label=\"Random\",\n",
    "    color=\"black\"\n",
    ")\n",
    "\n",
    "plt.xlabel(\"Size of the pool\", fontsize=8)\n",
    "#plt.ylabel(f\"Number of chosen elements\", fontsize=8)\n",
    "plt.grid(color=\"grey\", linestyle=\"--\", linewidth=0.5)\n",
    "#plt.title(\"Average number of elements belonging to `dev`set in 10-shot.\", fontsize=10)\n",
    "plt.legend(fontsize=8)\n",
    "#plt.savefig(\"top.pdf\", format=\"pdf\", bbox_inches=\"tight\")\n",
    "plt.show()"
   ]
  }
 ],
 "metadata": {
  "kernelspec": {
   "display_name": "llm",
   "language": "python",
   "name": "python3"
  },
  "language_info": {
   "codemirror_mode": {
    "name": "ipython",
    "version": 3
   },
   "file_extension": ".py",
   "mimetype": "text/x-python",
   "name": "python",
   "nbconvert_exporter": "python",
   "pygments_lexer": "ipython3",
   "version": "3.9.18"
  }
 },
 "nbformat": 4,
 "nbformat_minor": 2
}
